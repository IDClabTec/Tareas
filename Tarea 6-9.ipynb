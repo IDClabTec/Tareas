{
 "cells": [
  {
   "cell_type": "markdown",
   "metadata": {},
   "source": [
    "## Tarea 6.9\n",
    "\n",
    "Encuentre una aproximación numérica para $(31)^{1/3}$ con un error relativo menor que $10^{-8}$ usando el método de bisección y el método de iteración de punto fijo. Compare el tiempo que tarda cada método."
   ]
  },
  {
   "cell_type": "code",
   "execution_count": 29,
   "metadata": {},
   "outputs": [],
   "source": [
    "#Importamos las librerias\n",
    "import matplotlib.pyplot as plt \n",
    "import numpy as np\n",
    "\n",
    "\n",
    "epsilon = 10e-8 #error relativo\n",
    "\n",
    "#Creamos una función que realiza el metodo de bisección\n",
    "def biseccion(f, a, b, epsilon, N=1000000):\n",
    "    \"\"\"\n",
    "    Devuelve el cero aproximado de la función f\n",
    "    \n",
    "    Parametros:\n",
    "    ----------\n",
    "    f: function\n",
    "        Función a la cual aproximaremos el cero.\n",
    "    a: float\n",
    "        Un valor inicial.\n",
    "    b: float\n",
    "        Otro valor inicial.\n",
    "    epsilon: float\n",
    "        Valor minimo de error en el cual el algoritmo se detendra.\n",
    "    N: int, opcional.\n",
    "        Número maximo de iteraciones, por predeterminado N=1000000.\n",
    "    \"\"\"\n",
    "    real = (31)**(1/3)\n",
    "    for i in range(N):\n",
    "        p = a + (b - a)/2\n",
    "        print(abs(1 - abs(real - f(p))/real))\n",
    "        if abs(1 - abs(real - f(p))/real) < epsilon:\n",
    "            return p\n",
    "        elif f(p)*f(a) > 0:\n",
    "            a = p\n",
    "        else:\n",
    "            b = p\n",
    "    raise Exception(\"No se pudo encontrar el cero de la función luego de \",N,\"iteraciones.\")\n",
    "\n",
    "#Metodo del punto fijo\n",
    "\n",
    "def iter_func(g, po, epsilon, N=1000000):\n",
    "    \"\"\"\n",
    "    Toma una función g y encuentra su punto fijo dado un error epsilon y un punto inicial g.\n",
    "    parametros:\n",
    "    ----------\n",
    "    g: function\n",
    "        Función a la cual se le buscara su punto fijo.\n",
    "    po: float\n",
    "        Un valor inicial para el algoritmo.\n",
    "    epsilon: float\n",
    "        Error minimo.\n",
    "    N: int, opcional\n",
    "         Número maximo de iteraciones, por predeterminado N=1000000.       \n",
    "    \"\"\"\n",
    "    for i in range(N):\n",
    "        p = g(po)\n",
    "        if abs(p - po)/abs(po) < epsilon:\n",
    "            return p\n",
    "        else:\n",
    "            po = p\n",
    "    \n",
    "    raise Exception(\"No se encontró el punto fijo de la función luego de\", N, \"iteraciones.\")"
   ]
  },
  {
   "cell_type": "markdown",
   "metadata": {},
   "source": [
    "### Metodo bisección\n",
    "\n",
    "Ahora bien primero calcularemos el valor aproximado de $(31)^{1/3}$ creando una función $f(x)$ que tenga su raiz en $(31)^{1/3}$.\n",
    "\n",
    "$$\n",
    "    f(x) = x^3 - 31\n",
    "$$\n",
    "\n",
    "Sabemos que $(31)^{1/3}$ debe estar en $[27^{1/3},64^{1/3}] = [3,4]$, por lo cual $a=3$ y $b=4$."
   ]
  },
  {
   "cell_type": "code",
   "execution_count": 30,
   "metadata": {},
   "outputs": [
    {
     "name": "stdout",
     "output_type": "stream",
     "text": [
      "1.7801849931685592\n",
      "0.9405534163882855\n",
      "0.1535700153474726\n",
      "0.44104748840936614\n",
      "0.14079518170742167\n",
      "0.007119662512511393\n",
      "0.0666542427976593\n",
      "0.029721467864709306\n",
      "0.011289454221893314\n",
      "0.002082034630547125\n",
      "0.002519529135842191\n",
      "0.00021892606525941716\n",
      "0.0009315095777537863\n",
      "0.00035628058024173015\n",
      "6.867446351699336e-05\n",
      "7.512649936147753e-05\n",
      "3.2261925455578933e-06\n",
      "3.272409182963898e-05\n",
      "1.47489387289923e-05\n",
      "5.761370362789009e-06\n",
      "1.2675882266055538e-06\n",
      "9.793023296733594e-07\n",
      "1.4414290605557767e-07\n",
      "4.175797219119204e-07\n",
      "1.3671841148088504e-07\n",
      "3.712246732234803e-09\n"
     ]
    }
   ],
   "source": [
    "def func(x):\n",
    "    return x**3 - 31\n",
    "aprox1 = biseccion(func,3,4,epsilon);"
   ]
  },
  {
   "cell_type": "code",
   "execution_count": 31,
   "metadata": {},
   "outputs": [
    {
     "name": "stdout",
     "output_type": "stream",
     "text": [
      "La primera aproximación con metodo de bisección es 3.141380652785301\n"
     ]
    }
   ],
   "source": [
    "print(f\"La primera aproximación con metodo de bisección es {aprox1}\")"
   ]
  },
  {
   "cell_type": "markdown",
   "metadata": {},
   "source": [
    "### Metodo punto fijo\n",
    "\n",
    "Para este metodo es necesario buscar una función tal que su punto fijo sea $(31)^{1/3}$.\n",
    "\n",
    "Primero probamos con $g(x) = (31)^{1/3} + \\log{(2 - \\frac{x}{(31)^{1/3}})}$.\n",
    "\n",
    "Para nuestro valor inicial usamos $p_0 \\approx \\frac{(4+3)}{2} = 3.5$"
   ]
  },
  {
   "cell_type": "code",
   "execution_count": 32,
   "metadata": {},
   "outputs": [],
   "source": [
    "def g(x):\n",
    "    return (31)**(1/3) + np.log(2 - x/(31)**(1/3))"
   ]
  },
  {
   "cell_type": "code",
   "execution_count": 33,
   "metadata": {},
   "outputs": [
    {
     "name": "stdout",
     "output_type": "stream",
     "text": [
      "La segunda aproximación con metodo de punto fijo es 3.141380693577468\n"
     ]
    }
   ],
   "source": [
    "aprox2 = iter_func(g,3.5,epsilon)\n",
    "print(f\"La segunda aproximación con metodo de punto fijo es {aprox2}\")"
   ]
  },
  {
   "cell_type": "markdown",
   "metadata": {},
   "source": [
    "Comparamos ambos metodos"
   ]
  },
  {
   "cell_type": "code",
   "execution_count": 34,
   "metadata": {},
   "outputs": [
    {
     "name": "stdout",
     "output_type": "stream",
     "text": [
      "1.7801849931685592\n",
      "0.9405534163882855\n",
      "0.1535700153474726\n",
      "0.44104748840936614\n",
      "0.14079518170742167\n",
      "0.007119662512511393\n",
      "0.0666542427976593\n",
      "0.029721467864709306\n",
      "0.011289454221893314\n",
      "0.002082034630547125\n",
      "0.002519529135842191\n",
      "0.00021892606525941716\n",
      "0.0009315095777537863\n",
      "0.00035628058024173015\n",
      "6.867446351699336e-05\n",
      "7.512649936147753e-05\n",
      "3.2261925455578933e-06\n",
      "3.272409182963898e-05\n",
      "1.47489387289923e-05\n",
      "5.761370362789009e-06\n",
      "1.2675882266055538e-06\n",
      "9.793023296733594e-07\n",
      "1.4414290605557767e-07\n",
      "4.175797219119204e-07\n",
      "1.3671841148088504e-07\n",
      "3.712246732234803e-09\n",
      "Wall time: 1.99 ms\n"
     ]
    },
    {
     "data": {
      "text/plain": [
       "3.141380652785301"
      ]
     },
     "execution_count": 34,
     "metadata": {},
     "output_type": "execute_result"
    }
   ],
   "source": [
    "%time biseccion(func,3,4,epsilon)"
   ]
  },
  {
   "cell_type": "code",
   "execution_count": 45,
   "metadata": {},
   "outputs": [
    {
     "name": "stdout",
     "output_type": "stream",
     "text": [
      "Wall time: 0 ns\n"
     ]
    },
    {
     "data": {
      "text/plain": [
       "3.1413806258217636"
      ]
     },
     "execution_count": 45,
     "metadata": {},
     "output_type": "execute_result"
    }
   ],
   "source": [
    "%time iter_func(g,1e-10,epsilon)"
   ]
  },
  {
   "cell_type": "markdown",
   "metadata": {},
   "source": [
    "Es evidente que con la función correcta el metodo del punto fijo tiene una mayor eficiencia."
   ]
  }
 ],
 "metadata": {
  "kernelspec": {
   "display_name": "Python 3",
   "language": "python",
   "name": "python3"
  },
  "language_info": {
   "codemirror_mode": {
    "name": "ipython",
    "version": 3
   },
   "file_extension": ".py",
   "mimetype": "text/x-python",
   "name": "python",
   "nbconvert_exporter": "python",
   "pygments_lexer": "ipython3",
   "version": "3.8.3"
  }
 },
 "nbformat": 4,
 "nbformat_minor": 4
}
