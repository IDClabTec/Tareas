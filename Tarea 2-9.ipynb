{
 "cells": [
  {
   "cell_type": "markdown",
   "metadata": {},
   "source": [
    "## Tarea 2.8\n",
    "\n",
    "Ejercicio 22, sección 1.2 del libro de Burden.\n",
    "\n",
    "Queremos aproximar la función $e^{-5}$ y lo hacemos de dos maneras\n",
    "\n",
    "* $\\sum_{n=0}^9 \\frac{1}{n!}(-5)^n$\n",
    "\n",
    "\n",
    "* $\\frac{1}{\\sum_{n=0}^9 \\frac{1}{n!} 5^n}$\n",
    "\n",
    "Calcule los errores absolutos y relativos de cada aproximación. ¿Cuál es más precisa y por qué?"
   ]
  },
  {
   "cell_type": "code",
   "execution_count": 75,
   "metadata": {},
   "outputs": [
    {
     "name": "stdout",
     "output_type": "stream",
     "text": [
      "Valor real de e^-5=0.006737946999085467.\n",
      "El resultado de la primera sumatoria es 0.02445667144483013, mientras que el otro es 0.006959452863649537\n",
      "El error relativo es 2.629691870261016 y 0.0328743851197011 respectivamente.\n"
     ]
    }
   ],
   "source": [
    "import math\n",
    "s1 = 0; #acumulador\n",
    "s2 = 0; #otro acumulador\n",
    "real = math.exp(-5) #valor real\n",
    "for n in range(0,10):\n",
    "    s1 = s1 + ((-5)**n)/(math.factorial(n))\n",
    "for n in range(0,10):\n",
    "    s2 = s2+1/(math.factorial(n))*(5)**n\n",
    "s2=1/s2\n",
    "print(f'Valor real de e^{-5}={real}.\\nEl resultado de la primera sumatoria es {s1}, mientras que el otro es {s2}\\nEl error relativo es {abs(s1-real)/real} y {abs(s2-real)/real} respectivamente.')"
   ]
  },
  {
   "cell_type": "markdown",
   "metadata": {},
   "source": [
    "Es evidente que la segunda sumatoria es mucho mas exacta que la primera, esto se puede observar en los errores relativos. La Es evidente que la segunda sumatoria es mucho más exacta que la primera, esto se puede observar en los errores relativos. La razón es debido a que la distancia entre los valores de la primera sumatoria están más alejados que los de la segunda.\n",
    "\n",
    "La serie de Taylor de $e^x$ es:\n",
    "\n",
    "\n",
    "$$\n",
    "e^{x} = \\sum^{\\infty}_{n=0} \\frac{x^n}{n!} = 1 + x + \\frac{x^2}{2!} + ...\n",
    "$$\n",
    "Si tomamos $x=-5$ y solo consideramos los primeros 9 términos de la sumatoria tenemos:\n",
    "\n",
    "$$\n",
    "e^{-5} = \\sum^{9}_{n=0} \\frac{-5^n}{n!}\n",
    "$$\n",
    "Bajo esta lógica la primera sumatoria debería ser la correcta, no obstante el número de términos no es suficiente para obtener un valor aproximado debido al signo negativo en el exponente, los primeros términos son \"distantes\" entre sí y el valor tenderá a un número negativo, a medida que consideramos más términos la sumatoria converge a valores positivos y por ende uno más cercano al esperado. Esto puede demostrarse considerando 20 interacciones en vez de 9.\n"
   ]
  },
  {
   "cell_type": "code",
   "execution_count": 132,
   "metadata": {},
   "outputs": [
    {
     "name": "stdout",
     "output_type": "stream",
     "text": [
      "Con 20 interaciones se obtiene 0.006745540097711817. Esto significa un error relativo de 0.0011269157545140867\n"
     ]
    }
   ],
   "source": [
    "s1=0; #Reiniciamos el contador\n",
    "for n in range(0,21):\n",
    "    s1 = s1 + ((-5)**n)/(math.factorial(n))\n",
    "print(f'Con 20 interaciones se obtiene {s1}. Esto significa un error relativo de {abs(s1-real)/real}')"
   ]
  },
  {
   "cell_type": "markdown",
   "metadata": {},
   "source": [
    "Como se puede ver el error es extremadamente pequeño en comparación con el error anterior, la pregunta es ¿Por qué la 2da sumatoria si da el valor buscado?.\n",
    "\n",
    "Si observamos bien la 2da sumatoria es en realidad $\\frac{1}{e^{5}}$ con $e^5$ expresado como suma de Taylor, como la sumatoria de Taylor de $e^{5}$ solo tiene valores positivos no nos encontramos con saltos entre positivos y negativos, por lo cual para iteraciones pequeñas obtenemos un valor siempre positivo.  \n",
    "\n",
    "Estos \"saltos\" pueden verse graficando la función $f(a,x)=\\frac{a^x}{x!}$ con $a=-5$ y $a=5$. "
   ]
  },
  {
   "cell_type": "code",
   "execution_count": 131,
   "metadata": {},
   "outputs": [
    {
     "data": {
      "text/plain": [
       "<matplotlib.legend.Legend at 0x26ffa89d1c0>"
      ]
     },
     "execution_count": 131,
     "metadata": {},
     "output_type": "execute_result"
    },
    {
     "data": {
      "image/png": "[encoded data removed]",
      "text/plain": [
       "<Figure size 432x288 with 1 Axes>"
      ]
     },
     "metadata": {
      "needs_background": "light"
     },
     "output_type": "display_data"
    }
   ],
   "source": [
    "import matplotlib.pyplot as plt\n",
    "import numpy as np\n",
    "from scipy.special import factorial\n",
    "import matplotlib.patches as patches\n",
    "\n",
    "def exp(a,x):\n",
    "    return a**x / factorial(x)\n",
    "fig,ax=plt.subplots(1)\n",
    "ax.plot(np.arange(0,21,dtype=int),exp(-5,np.arange(0,21,dtype=int)),label=\"Función exponencial $e^{-5}$\")\n",
    "ax.plot(np.arange(0,21,dtype=int),exp(5,np.arange(0,21,dtype=int)),label=\"Función exponencial $e^{5}$\",color=\"green\")\n",
    "\n",
    "ax.add_patch(\n",
    "     patches.Rectangle(\n",
    "        (0, 26),\n",
    "        12,\n",
    "        -52,\n",
    "        edgecolor = 'blue',\n",
    "        facecolor = 'red',\n",
    "        alpha=0.4,\n",
    "        fill=True\n",
    "     ) )\n",
    "\n",
    "\n",
    "ax.legend()"
   ]
  },
  {
   "cell_type": "markdown",
   "metadata": {},
   "source": [
    "\n",
    "En la zona destacada con rojo podemos ver los \"saltos\" de la función exponencial de $e^{-5}$, después de esta la función convergen a 0.\n"
   ]
  },
  {
   "cell_type": "code",
   "execution_count": null,
   "metadata": {},
   "outputs": [],
   "source": []
  }
 ],
 "metadata": {
  "kernelspec": {
   "display_name": "Python 3",
   "language": "python",
   "name": "python3"
  },
  "language_info": {
   "codemirror_mode": {
    "name": "ipython",
    "version": 3
   },
   "file_extension": ".py",
   "mimetype": "text/x-python",
   "name": "python",
   "nbconvert_exporter": "python",
   "pygments_lexer": "ipython3",
   "version": "3.8.3"
  }
 },
 "nbformat": 4,
 "nbformat_minor": 4
}
