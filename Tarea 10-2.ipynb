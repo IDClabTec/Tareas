{
 "cells": [
  {
   "cell_type": "markdown",
   "metadata": {},
   "source": [
    "## Tarea 10.2"
   ]
  },
  {
   "cell_type": "markdown",
   "metadata": {},
   "source": [
    "Escriba un código que calcule integrales triples usando una cuadratura gaussiana, y úselo para calcular en coordenadas cartesianas la carga total al interior de una esfera con densidad $\\rho = r$ con $r \\leq 1$. Compare su resultado con el valor exacto."
   ]
  },
  {
   "cell_type": "code",
   "execution_count": 1,
   "metadata": {},
   "outputs": [],
   "source": [
    "import numpy as np\n",
    "import matplotlib.pyplot as plt"
   ]
  },
  {
   "cell_type": "markdown",
   "metadata": {},
   "source": [
    "En el caso 2d el integral puede escribirse como:\n",
    "$$\n",
    "\\int_a^b dx \\int_{c(x)}^{d(x)} dy\\; f(x,y)\n",
    "$$\n",
    "\n",
    "Con esta definición podemos generalizar para 3d:\n",
    "$$\n",
    "\\int_a^b dx \\int_{c(x)}^{d(x)} dy \\int_{e(x,y)}^{f(x,y)} dz\\;f(x,y,z)\n",
    " $$\n",
    "\n",
    "Con $c(x)$,$d(x)$,$e(x,y)$ y $f(x,y)$ funciones que cambian los limites de integración tal que el algoritmo de cuadratura gaussiana puede ser aplicado.\n",
    "\n",
    "La cuadradura Gaussiana esta definida en [-1,1], por lo cual es necesario cambiar nuestros limites y variables de integración tal que sea valido ocupar el metodo de cuadratura Gaussiana.\n",
    "\n",
    "El primer cambio es que x este definida por $t(x)=\\frac{b-a}{2}x + \\frac{b+a}{2}$.\n",
    "\n",
    "Ahora bien debemos cambiar los limites de integración de $y$ de tal forma que quede entre $-1$ y $1$.\n",
    "\n",
    "Como se puede pensar en el integral como un operador podemos hacer una analogia similar con la cuadratura Gaussiana, por ende el cambio para el integral de $y$ sera el mismo que el de $x$, lo mismo sucede con $z$. Entonces:\n",
    "\n",
    "$$\n",
    "  \\int_a^b dx \\int_{c(x)}^{d(x)} dy \\int_{e(x,y)}^{f(x,y)} dz\\;f(x,y,z)  \\approx \\sum_{i=1}^{n} \\sum_{j=1}^{m} \\sum_{k=1}^{l} c_i c_j c_k f(x_i,x_j,x_k)  \n",
    "$$\n"
   ]
  },
  {
   "cell_type": "code",
   "execution_count": 2,
   "metadata": {},
   "outputs": [],
   "source": [
    "def gauss_quad_7_3d(f, a=-1, b=1, c=lambda x: -1, d=lambda x:1, e=lambda x,y: -1, fg=lambda x,y: 1):\n",
    "    \"\"\"\n",
    "    Aproxima el integral de la función de tres variables f con un metodo de cuadradatura Gaussiana de grado 7.\n",
    "    \n",
    "    Parametros:\n",
    "    ----------\n",
    "    f: function\n",
    "        Función a integrar.\n",
    "    a: float, opcional\n",
    "        Limite inferior para x. Predefinido como -1.\n",
    "    b: float, opcional\n",
    "        Limite superior para x. Predefinido como 1.\n",
    "    c: function, opcional\n",
    "        Función de x que define como cambia el limite inferior para y. De manera\n",
    "        predeterminada es la función f(x)=-1. \n",
    "    d: function, opcional\n",
    "        Función de x que define como cambia el limite superior para y. De manera\n",
    "        predeterminada es la función f(x)=1.\n",
    "    e: function, opcional\n",
    "        Función de x y de c(y) que define como cambia el limite inferior de z.\n",
    "        Tiene un valor predeterminado de una función de la forma f(x)=-1.\n",
    "    fg: function, opcional\n",
    "        Función de x y de d(y) que define como cambia el limite supeior de z.\n",
    "        Tiene un valor predeterminado de una función de la forma f(x)=1.        \n",
    "    \"\"\"\n",
    "    \n",
    "    #Coeficientes \n",
    "    \n",
    "    cg = [0.1012285362903706, 0.2223810344533744, 0.3137066458778874, 0.3626837833783621, 0.3626837833783621,0.3137066458778874, 0.2223810344533744, 0.1012285362903706]\n",
    "\n",
    "    rg = [-0.9602898564975363, -0.7966664774136267, -0.5255324099163290, -0.1834346424956498,0.1834346424956498, 0.5255324099163290, 0.7966664774136267, 0.9602898564975363]\n",
    "    result = 0 #acumulador\n",
    "    \n",
    "    #Cambio limites\n",
    "    \n",
    "    def t(x,a,b):\n",
    "        h1 = (b-a)/2\n",
    "        h2 = (a+b)/2\n",
    "        return h1*x + h2\n",
    "    \n",
    "    #Constante para el cambio de limites\n",
    "    \n",
    "    def kg(a,b):\n",
    "        return (b - a)/2\n",
    "    \n",
    "    kx = kg(a,b);\n",
    "    l = len(cg)\n",
    "    for i in range(l):\n",
    "        \n",
    "        x = t(rg[i],a,b);\n",
    "        c1 = c(x);\n",
    "        d1 = d(x);\n",
    "        ky = kg(c1,d1);\n",
    "    \n",
    "        for j in range(l):\n",
    "            \n",
    "            y = t(rg[j],c1,d1);\n",
    "            e1 = e(x,y);\n",
    "            f1 = fg(x,y);\n",
    "            \n",
    "            kz = kg(e1,f1);\n",
    "            for k in range(l):\n",
    "                \n",
    "                z = t(rg[k],e1,f1);\n",
    "                result += cg[i]*cg[j]*cg[k]*kz*ky*kx*f(x, y, z);\n",
    "            \n",
    "    return result"
   ]
  },
  {
   "cell_type": "markdown",
   "metadata": {},
   "source": [
    "Probamos nuestro codigo con un integral conocido. Por ejemplo $\\int_{0}^{1} dx\\int_{0}^{1}dy\\int_{0}^{1}dz$ xyz. Su valor exacto es $\\frac{1}{8}=0.125$."
   ]
  },
  {
   "cell_type": "code",
   "execution_count": 3,
   "metadata": {},
   "outputs": [],
   "source": [
    "def f(x,y,z):\n",
    "    return x*y*z"
   ]
  },
  {
   "cell_type": "code",
   "execution_count": 4,
   "metadata": {},
   "outputs": [],
   "source": [
    "#Integramos con los limites 0 y 1 para todas las variables\n",
    "approx_gauss = gauss_quad_7_3d(f, 0, 1, lambda x: 0, lambda x: 1,lambda x,y: 0, lambda x,y: 1);"
   ]
  },
  {
   "cell_type": "code",
   "execution_count": 5,
   "metadata": {},
   "outputs": [
    {
     "data": {
      "text/plain": [
       "0.12499999999999793"
      ]
     },
     "execution_count": 5,
     "metadata": {},
     "output_type": "execute_result"
    }
   ],
   "source": [
    "exact = 1/8\n",
    "approx_gauss"
   ]
  },
  {
   "cell_type": "code",
   "execution_count": 6,
   "metadata": {},
   "outputs": [
    {
     "data": {
      "text/plain": [
       "1.6542323066914832e-14"
      ]
     },
     "execution_count": 6,
     "metadata": {},
     "output_type": "execute_result"
    }
   ],
   "source": [
    "err_abs = abs(exact-approx_gauss)/(exact);\n",
    "err_abs"
   ]
  },
  {
   "cell_type": "markdown",
   "metadata": {},
   "source": [
    "Tenemos un error del orden de $10^{-14}$. Ya con nuestra función bien definida y demostrada su presición realizamos el calculo para la esfera maciza de radio 1 y densidad constante de $0.1$."
   ]
  },
  {
   "cell_type": "code",
   "execution_count": 7,
   "metadata": {},
   "outputs": [],
   "source": [
    "#Función de densidad \n",
    "def p(x,y,z):\n",
    "    return 0.1 #Constante para todo x,y,z"
   ]
  },
  {
   "cell_type": "markdown",
   "metadata": {},
   "source": [
    "Ahora bien debemos calcular los limites de integración en coordenadas cartesianas para una esfera de radio $R$.\n",
    "\n",
    "Si proyectamos la esfera en el eje x es evidente que $-R\\leq x \\leq R$, por ende ya tenemos el limite de integración para $x$. Se cumple igualmente que $0\\leq z^2 + y^2 \\leq R^2 - x^2$.\n",
    "\n",
    "Luego si proyectamos un circulo en el plano $xy$ tendremos que el radio de este varia entre $-\\sqrt{R^2 - x^2}$ y $\\sqrt{R^2 - x^2}$. Por ultimo si proyectamos ahora desde el plano $xy$ a $z$ tendremos que $-\\sqrt{R^2 - x^2 - y^2}$ y $\\sqrt{R^2 - x^2 - y^2}$. Entonces nuestro integral queda como:\n",
    "\n",
    "$$\n",
    "    \\int_{-R}^{R} \\; dx \\int_{-\\sqrt{R^2 - x^2}}^{\\sqrt{R^2 - x^2}}\\; dy\\int_{-\\sqrt{R^2 - x^2 - y^2}}^{\\sqrt{R^2 - x^2 - y^2}} \\; dz \\; \\rho(x,y,z)\n",
    "$$"
   ]
  },
  {
   "cell_type": "code",
   "execution_count": 8,
   "metadata": {},
   "outputs": [],
   "source": [
    "R=1 #Radio de la esfera\n",
    "\n",
    "#Definimos nuestra función de densidad\n",
    "def rho(x,y,z):\n",
    "    return 0.1 #Densidad constante "
   ]
  },
  {
   "cell_type": "markdown",
   "metadata": {},
   "source": [
    "Este integral es facil de calcular analiticamente y tiene un valor de $\\frac{4}{3}\\pi R^3\\rho \\rightarrow \\frac{4}{30}\\pi$"
   ]
  },
  {
   "cell_type": "code",
   "execution_count": 9,
   "metadata": {},
   "outputs": [
    {
     "data": {
      "text/plain": [
       "0.41887902047863906"
      ]
     },
     "execution_count": 9,
     "metadata": {},
     "output_type": "execute_result"
    }
   ],
   "source": [
    "exact = 4/30 * np.pi \n",
    "exact"
   ]
  },
  {
   "cell_type": "code",
   "execution_count": 10,
   "metadata": {},
   "outputs": [
    {
     "data": {
      "text/plain": [
       "0.4192413931002175"
      ]
     },
     "execution_count": 10,
     "metadata": {},
     "output_type": "execute_result"
    }
   ],
   "source": [
    "approx_gauss_sphe = gauss_quad_7_3d(rho,-R,R,lambda x: -np.sqrt(R**2 - x**2), lambda x: np.sqrt(R**2 - x**2),lambda x,y: -np.sqrt(R**2 - x**2 - y**2),lambda x,y: np.sqrt(R**2 - x**2 - y**2))\n",
    "approx_gauss_sphe"
   ]
  },
  {
   "cell_type": "code",
   "execution_count": 11,
   "metadata": {},
   "outputs": [
    {
     "name": "stdout",
     "output_type": "stream",
     "text": [
      "El error cometido con la aproximación es aprox. 0.0865%\n"
     ]
    }
   ],
   "source": [
    "err_abs = abs(exact - approx_gauss_sphe)/exact\n",
    "print(f'El error cometido con la aproximación es aprox. {round(err_abs,6)*100}%')"
   ]
  },
  {
   "cell_type": "markdown",
   "metadata": {},
   "source": [
    "* Los coeficientes para la cuadratura gaussiana de orden 7 fueron obtenidos de J. Keesling, Gaussian Quadrature. University of Florida, 2014 [https://people.clas.ufl.edu/kees/files/GaussianQuadrature.pdf]."
   ]
  }
 ],
 "metadata": {
  "kernelspec": {
   "display_name": "Python 3",
   "language": "python",
   "name": "python3"
  },
  "language_info": {
   "codemirror_mode": {
    "name": "ipython",
    "version": 3
   },
   "file_extension": ".py",
   "mimetype": "text/x-python",
   "name": "python",
   "nbconvert_exporter": "python",
   "pygments_lexer": "ipython3",
   "version": "3.8.3"
  }
 },
 "nbformat": 4,
 "nbformat_minor": 4
}
