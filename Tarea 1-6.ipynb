{
 "cells": [
  {
   "cell_type": "markdown",
   "metadata": {},
   "source": [
    "# Tarea 1.6 FIS1344-1- METODOS NUMERICOS Y PROBABILIDADES"
   ]
  },
  {
   "cell_type": "markdown",
   "metadata": {},
   "source": [
    "Escriba un código que sume todos los números desde cero hasta 100."
   ]
  },
  {
   "cell_type": "markdown",
   "metadata": {},
   "source": [
    "### Solución"
   ]
  },
  {
   "cell_type": "code",
   "execution_count": 15,
   "metadata": {},
   "outputs": [
    {
     "name": "stdout",
     "output_type": "stream",
     "text": [
      "El resultado obtenido con el ciclo for es 5050\n"
     ]
    }
   ],
   "source": [
    "#Acumulador\n",
    "output = 0; #Creamos una variable \"output\" con un valor 0. Como 0 ya es el valor inicial de nuestra \n",
    "            #variable para realizar lo pedido en el enuciado solo debemos sumar los numeros entre 1 y 100.\n",
    "\n",
    "for i in range(1,101): #Ciclo for con la variable i corriendo entre [1,100]        \n",
    "    output=output+i #Sumamos a la variable output la variable i\n",
    "\n",
    "print(f\"El resultado obtenido con el ciclo for es {output}\") #Mostramo el resultado del ciclo for"
   ]
  },
  {
   "cell_type": "markdown",
   "metadata": {},
   "source": [
    "Podemos comprobar la solución a este ejercicio con la formula de suma de Gauss\n",
    "\n",
    "$$\n",
    "    1+2+3 ... +(n-1) + n = \\frac{n(n+1)}{2}\n",
    "$$"
   ]
  },
  {
   "cell_type": "code",
   "execution_count": 14,
   "metadata": {},
   "outputs": [
    {
     "name": "stdout",
     "output_type": "stream",
     "text": [
      "El resultado real de la sumatoria es 5050.0\n"
     ]
    }
   ],
   "source": [
    "resultado_real = 100*(100+1)/2\n",
    "\n",
    "print(f\"El resultado real de la sumatoria es {resultado_real}\")"
   ]
  },
  {
   "cell_type": "code",
   "execution_count": null,
   "metadata": {},
   "outputs": [],
   "source": []
  }
 ],
 "metadata": {
  "kernelspec": {
   "display_name": "Python 3",
   "language": "python",
   "name": "python3"
  },
  "language_info": {
   "codemirror_mode": {
    "name": "ipython",
    "version": 3
   },
   "file_extension": ".py",
   "mimetype": "text/x-python",
   "name": "python",
   "nbconvert_exporter": "python",
   "pygments_lexer": "ipython3",
   "version": "3.8.3"
  }
 },
 "nbformat": 4,
 "nbformat_minor": 4
}
