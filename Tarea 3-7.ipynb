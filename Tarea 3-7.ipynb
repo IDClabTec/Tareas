{
 "cells": [
  {
   "cell_type": "markdown",
   "metadata": {},
   "source": [
    "# Tarea 3.7\n",
    "\n",
    "Ejercicio 1.3.1 del libro de Burden: Use números de punto flotante de 16 bits para calcular las siguientes sumas. Explique por qué ambos métodos en cada caso dan resultados diferentes y cuál es la más correcta.\n",
    "\n",
    "* $\\sum_{n = 1}^{100}\\frac{1}{n^2}$ primero de la forma $1 + \\frac{1}{4} + \\frac{1}{9} + \\dots + \\frac{1}{10^4}$ y luego en la forma $\\frac{1}{10^4} + \\dots + \\frac{1}{9} + \\frac{1}{4} + 1$.\n",
    "\n",
    "* $\\sum_{n = 1}^{100}\\frac{1}{n^3}$ primero de la forma $1 + \\frac{1}{8} + \\frac{1}{27} + \\dots + \\frac{1}{10^6}$ y luego en la forma $\\frac{1}{10^6} + \\dots + \\frac{1}{27} + \\frac{1}{8} + 1$."
   ]
  },
  {
   "cell_type": "markdown",
   "metadata": {},
   "source": [
    "## Desarrollo:\n",
    "Primero realizamos las sumatorias $1 + \\frac{1}{4} + \\frac{1}{9} + \\dots + \\frac{1}{10^4}$  y  $\\frac{1}{10^4} + \\dots + \\frac{1}{9} + \\frac{1}{4} + 1$."
   ]
  },
  {
   "cell_type": "code",
   "execution_count": 2,
   "metadata": {},
   "outputs": [
    {
     "name": "stdout",
     "output_type": "stream",
     "text": [
      "Los resultados de la sumatoria son 1.626953125 y 1.634765625. Hay una diferencia de 0.0078125 entre ambas.\n"
     ]
    }
   ],
   "source": [
    "import numpy as np #Importamos el paquete de numpy\n",
    "s1 = np.float16(0); \n",
    "s2 = np.float16(0); \n",
    "#Definimos dos acumuladores para la primera y segunda suma respectivamente\n",
    "for n in range(1,101):\n",
    "    s1+= np.float16(1/n**2);\n",
    "for n in range(100,0,-1):\n",
    "    s2+= np.float16(1/n**2);\n",
    "#Mostramos los resultados\n",
    "print(f\"Los resultados de la sumatoria son {s1} y {s2}. Hay una diferencia de {abs(s1-s2)} entre ambas.\")"
   ]
  },
  {
   "cell_type": "code",
   "execution_count": 4,
   "metadata": {},
   "outputs": [
    {
     "name": "stdout",
     "output_type": "stream",
     "text": [
      "Los resultados de la sumatoria son 1.19921875 y 1.2021484375. Hay una diferencia de 0.0029296875 entre ambas\n"
     ]
    }
   ],
   "source": [
    "#Probamos con la otra sumatoria\n",
    "s3 = np.float16(0);\n",
    "s4 = np.float16(0);\n",
    "for n in range(1,101):\n",
    "    s3 += np.float16(1/n**3);\n",
    "for n in range(100,0,-1):\n",
    "    s4 += np.float16(1/n**3);\n",
    "print(f\"Los resultados de la sumatoria son {s3} y {s4}. Hay una diferencia de {abs(s3-s4)} entre ambas\")"
   ]
  },
  {
   "cell_type": "markdown",
   "metadata": {},
   "source": [
    "Para saber cual de las dos es más correcta realizamos las sumatorias pero con el modulo ```numpy```"
   ]
  },
  {
   "cell_type": "code",
   "execution_count": 40,
   "metadata": {},
   "outputs": [
    {
     "data": {
      "text/plain": [
       "1.6349839"
      ]
     },
     "execution_count": 40,
     "metadata": {},
     "output_type": "execute_result"
    }
   ],
   "source": [
    "real1 = (1/np.arange(1,101)**2).sum() #Sumamos todos los elementos de una matriz que contiene 1/n^2 en [1,100]\n",
    "real1 = round(real1,8);\n",
    "real1 #Redondeamos la cifra para que tenga el mismo numero de decimales que un numero de 16 bits"
   ]
  },
  {
   "cell_type": "code",
   "execution_count": 39,
   "metadata": {},
   "outputs": [
    {
     "data": {
      "text/plain": [
       "1.2020074"
      ]
     },
     "execution_count": 39,
     "metadata": {},
     "output_type": "execute_result"
    }
   ],
   "source": [
    "real2 = (1/np.arange(1,101)**3).sum() #Sumamos todos los elementos de una matriz que contiene 1/n^3 en [1,100]\n",
    "real2 = round(real2,8);\n",
    "real2"
   ]
  },
  {
   "cell_type": "code",
   "execution_count": 42,
   "metadata": {},
   "outputs": [],
   "source": [
    "#Mostramos los errores \n",
    "err1 = abs(s1-real1)/real1;\n",
    "err2 = abs(s2-real1)/real1;\n",
    "err3 = abs(s3-real2)/real2;\n",
    "err4 = abs(s4-real2)/real2;"
   ]
  },
  {
   "cell_type": "code",
   "execution_count": 43,
   "metadata": {},
   "outputs": [
    {
     "name": "stdout",
     "output_type": "stream",
     "text": [
      "Los errores de la primera sumatoria del primer y segundo metodo son 0.6116510991235161 y 8.545410030396609e-05 respectivamente.\n"
     ]
    }
   ],
   "source": [
    "print(f\"Los errores de la primera sumatoria del primer y segundo metodo son {err1} y {err2} respectivamente.\")"
   ]
  },
  {
   "cell_type": "code",
   "execution_count": 10,
   "metadata": {
    "scrolled": true
   },
   "outputs": [
    {
     "name": "stdout",
     "output_type": "stream",
     "text": [
      "Los errores de los otros dos metodos son 0.0023199945841822895 y 0.0001173344192765487 \n"
     ]
    }
   ],
   "source": [
    "print(f\"Los errores de los otros dos metodos son {err3} y {err4} \")"
   ]
  },
  {
   "cell_type": "markdown",
   "metadata": {},
   "source": [
    "Como es evidente el 2do método ofrece un valor con un menor error relativo. Esto es debido a que los números de 16 bits son capaces de procesar un número finito de decimales y realizan aproximaciones para poder interpretar los números que estamos introduciendo. Esto es evidente mostrando el número pi en 16 bits y 64 bits."
   ]
  },
  {
   "cell_type": "code",
   "execution_count": 11,
   "metadata": {},
   "outputs": [
    {
     "name": "stdout",
     "output_type": "stream",
     "text": [
      "Numero pi en 16 bits: 3.140625\n",
      "Numero pi en 64 bits: 3.141592653589793\n"
     ]
    }
   ],
   "source": [
    "print(f\"Numero pi en 16 bits: {np.float16(np.pi)}\\nNumero pi en 64 bits: {np.pi}\")"
   ]
  },
  {
   "cell_type": "markdown",
   "metadata": {},
   "source": [
    "Ahora bien la razón por la cual ambos metodos dan distintos resultados es debido a la forma en la cual funciona la sumatoria de numeros en 16 bits.\n",
    "\n",
    "Al sumar dos numeros muy distintos entre si la aproximación que realizara el ordenador generar un error mayor que si sumamos numeros cercanos. En el caso del primer metodo el primer numeros es 1 mientras que el segundo es 0.25, sumados dan 1.25 y luego a este valor se le debe sumar 0.1111 aprox. el 1.25 y el 0.1111 son numeros \"lejanos\" y por ello el error de aproximación sera mayor. En cambio para el otro metodo el primer numero es 0.0001, el segundo es 0.00010204 y sumados dan un valor pequeño pero \"cercano\" al tercer numero, el cual es 0.0001041, por ello el error sera menor en este caso, como sumaremos valores pequeños con valores pequeños con poca distancia entre ellos el error sera pequeño. En cambio con el primer metodo tenemos valores pequeños con distancia grandes entre si.\n",
    "\n",
    "Esto puede observarse si mostramos la \"distancia\" entre cada sumando en ambas metodos con la sumatoria $\\sum_n=1^{100}\\frac{1}{n^2}$\n"
   ]
  },
  {
   "cell_type": "code",
   "execution_count": 18,
   "metadata": {},
   "outputs": [
    {
     "name": "stdout",
     "output_type": "stream",
     "text": [
      "Distancias para el primer metodo:\n",
      "0.25\n",
      "0.138916015625\n",
      "0.298583984375\n",
      "0.383575439453125\n",
      "0.435821533203125\n",
      "0.4709625244140625\n",
      "0.4961395263671875\n",
      "0.515045166015625\n",
      "0.5297317504882812\n",
      "0.541473388671875\n",
      "0.551055908203125\n",
      "0.5590248107910156\n",
      "0.5657577514648438\n",
      "0.5715141296386719\n",
      "0.5764961242675781\n",
      "0.5808486938476562\n",
      "0.5846824645996094\n",
      "0.5880851745605469\n",
      "0.5911235809326172\n",
      "0.5938568115234375\n",
      "0.5963268280029297\n",
      "0.5985679626464844\n",
      "0.6006126403808594\n",
      "0.6024837493896484\n",
      "0.6042051315307617\n",
      "0.6057920455932617\n",
      "0.6072597503662109\n",
      "0.6086206436157227\n",
      "0.6098880767822266\n",
      "0.6110696792602539\n",
      "0.6121740341186523\n",
      "0.6132087707519531\n",
      "0.6141805648803711\n",
      "0.6150941848754883\n",
      "0.6159553527832031\n",
      "0.6167678833007812\n",
      "0.6175365447998047\n",
      "0.6182637214660645\n",
      "0.6189537048339844\n",
      "0.6196088790893555\n",
      "0.620232105255127\n",
      "0.6208252906799316\n",
      "0.6213903427124023\n",
      "0.6219291687011719\n",
      "0.6224446296691895\n",
      "0.6229369640350342\n",
      "0.6234085559844971\n",
      "0.6238598823547363\n",
      "0.6242928504943848\n",
      "0.6247084140777588\n",
      "0.6251077651977539\n",
      "0.6254913806915283\n",
      "0.6258604526519775\n",
      "0.6262154579162598\n",
      "0.6265580654144287\n",
      "0.6268877983093262\n",
      "0.6272060871124268\n",
      "0.6275134086608887\n",
      "0.6278102397918701\n",
      "0.6280970573425293\n",
      "0.6283743381500244\n",
      "0.6286425590515137\n",
      "0.6289024353027344\n",
      "0.6291540861129761\n",
      "0.6293977499008179\n",
      "0.6296341419219971\n",
      "0.6298635005950928\n",
      "0.6300859451293945\n",
      "0.6303019523620605\n",
      "0.6305117607116699\n",
      "0.6307156085968018\n",
      "0.6309137344360352\n",
      "0.6311063766479492\n",
      "0.6312938928604126\n",
      "0.6314762830734253\n",
      "0.6316537857055664\n",
      "0.6318267583847046\n",
      "0.6319953203201294\n",
      "0.6321594715118408\n",
      "0.6323195695877075\n",
      "0.632475733757019\n",
      "0.6326280832290649\n",
      "0.6327767372131348\n",
      "0.6329218149185181\n",
      "0.6330634355545044\n",
      "0.6332017183303833\n",
      "0.6333367824554443\n",
      "0.633468747138977\n",
      "0.633597731590271\n",
      "0.6337239742279053\n",
      "0.6338473558425903\n",
      "0.6339679956436157\n",
      "0.6340860724449158\n",
      "0.6342016458511353\n",
      "0.634314775466919\n",
      "0.6344254612922668\n",
      "0.6345338821411133\n",
      "0.634640097618103\n",
      "0.6347441673278809\n",
      " \n",
      "\n",
      " Distancias para el segundo metodo:\n",
      "0.00010204315185546875\n",
      "2.086162567138672e-06\n",
      "9.989738464355469e-05\n",
      "0.00020396709442138672\n",
      "0.0003101229667663574\n",
      "0.00041854381561279297\n",
      "0.0005292892456054688\n",
      "0.0006424188613891602\n",
      "0.0007579326629638672\n",
      "0.0008759498596191406\n",
      "0.000996708869934082\n",
      "0.0011200904846191406\n",
      "0.0012462139129638672\n",
      "0.0013751983642578125\n",
      "0.0015071630477905273\n",
      "0.0016422271728515625\n",
      "0.0017805099487304688\n",
      "0.0019221305847167969\n",
      "0.0020672082901000977\n",
      "0.002215862274169922\n",
      "0.0023682117462158203\n",
      "0.002524256706237793\n",
      "0.002684354782104492\n",
      "0.0028486251831054688\n",
      "0.0030170679092407227\n",
      "0.0031899213790893555\n",
      "0.0033675432205200195\n",
      "0.003549933433532715\n",
      "0.003737330436706543\n",
      "0.0039299726486206055\n",
      "0.004128098487854004\n",
      "0.00433194637298584\n",
      "0.004541635513305664\n",
      "0.00475764274597168\n",
      "0.004980206489562988\n",
      "0.00520932674407959\n",
      "0.005445599555969238\n",
      "0.005689501762390137\n",
      "0.005941033363342285\n",
      "0.006200671195983887\n",
      "0.0064688920974731445\n",
      "0.006746172904968262\n",
      "0.007032990455627441\n",
      "0.007329821586608887\n",
      "0.007636666297912598\n",
      "0.007955193519592285\n",
      "0.008284926414489746\n",
      "0.008627057075500488\n",
      "0.008982062339782715\n",
      "0.009351134300231934\n",
      "0.009734749794006348\n",
      "0.010133862495422363\n",
      "0.010548949241638184\n",
      "0.010981917381286621\n",
      "0.011433005332946777\n",
      "0.011904597282409668\n",
      "0.012396693229675293\n",
      "0.012911200523376465\n",
      "0.013450026512145996\n",
      "0.0140150785446167\n",
      "0.014607787132263184\n",
      "0.015230536460876465\n",
      "0.015884757041931152\n",
      "0.01657426357269287\n",
      "0.017300963401794434\n",
      "0.018068671226501465\n",
      "0.018880248069763184\n",
      "0.01974046230316162\n",
      "0.020653128623962402\n",
      "0.02162301540374756\n",
      "0.022655844688415527\n",
      "0.02375924587249756\n",
      "0.024937987327575684\n",
      "0.026201605796813965\n",
      "0.027559638023376465\n",
      "0.029024481773376465\n",
      "0.030605673789978027\n",
      "0.032320380210876465\n",
      "0.03418385982513428\n",
      "0.036219000816345215\n",
      "0.03845059871673584\n",
      "0.040903449058532715\n",
      "0.04361569881439209\n",
      "0.04662930965423584\n",
      "0.049997687339782715\n",
      "0.05378568172454834\n",
      "0.058069586753845215\n",
      "0.06296002864837646\n",
      "0.06858289241790771\n",
      "0.07510602474212646\n",
      "0.08276593685150146\n",
      "0.09182965755462646\n",
      "0.10267865657806396\n",
      "0.11570966243743896\n",
      "0.13124310970306396\n",
      "0.14876019954681396\n",
      "0.16267621517181396\n",
      "0.13484418392181396\n",
      "0.36515581607818604\n",
      "\n"
     ]
    }
   ],
   "source": [
    "dis1_str = \"Distancias para el primer metodo:\\n\";\n",
    "dis2_str = \"Distancias para el segundo metodo:\\n\"\n",
    "\n",
    "s1 = 0; #Reiniciamos los acumuladores\n",
    "s2 = 0; \n",
    "\n",
    "dist1 = []; #Matriz donde guardaremos las distancias\n",
    "dist2 = [];\n",
    "\n",
    "for n in range(1,101):\n",
    "    if n>1: \n",
    "        d = abs(s1-np.float16(1/(n)**2))\n",
    "        dist1.append(d);\n",
    "        dis1_str+=f'{d}\\n'\n",
    "        s1+= np.float16(1/n**2);\n",
    "for n in range(100,0,-1):\n",
    "    if n<100: \n",
    "        d = abs(s2-np.float16(1/(n)**2))\n",
    "        dist2.append(d);\n",
    "        dis2_str+=f'{d}\\n'\n",
    "        s2+= np.float16(1/n**2);\n",
    "print(dis1_str,'\\n\\n',dis2_str);"
   ]
  },
  {
   "cell_type": "code",
   "execution_count": 19,
   "metadata": {},
   "outputs": [
    {
     "name": "stdout",
     "output_type": "stream",
     "text": [
      "El promedio de distancias para el primer y segundo metodo es 0.5977002659229317 y 0.02664625644683838 respectivamente.\n"
     ]
    }
   ],
   "source": [
    "print(f\"El promedio de distancias para el primer y segundo metodo es {np.array(dist1).mean()} y {np.array(dist2).mean()} respectivamente.\")"
   ]
  },
  {
   "cell_type": "markdown",
   "metadata": {},
   "source": [
    "Podemos ver que hay una enorme diferencia entre el promedio de estas distancias."
   ]
  }
 ],
 "metadata": {
  "kernelspec": {
   "display_name": "Python 3",
   "language": "python",
   "name": "python3"
  },
  "language_info": {
   "codemirror_mode": {
    "name": "ipython",
    "version": 3
   },
   "file_extension": ".py",
   "mimetype": "text/x-python",
   "name": "python",
   "nbconvert_exporter": "python",
   "pygments_lexer": "ipython3",
   "version": "3.8.3"
  }
 },
 "nbformat": 4,
 "nbformat_minor": 4
}
