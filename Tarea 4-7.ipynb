{
 "cells": [
  {
   "cell_type": "markdown",
   "metadata": {},
   "source": [
    "## Tarea 4.7"
   ]
  },
  {
   "cell_type": "markdown",
   "metadata": {},
   "source": [
    "Escriba una función dado(n) que simule lanzar un dado de $n$ caras. Corra la función 1000 veces para un dado de 6 caras y guarde los resultados en un archivo .hd5"
   ]
  },
  {
   "cell_type": "markdown",
   "metadata": {},
   "source": [
    "### Desarrollo "
   ]
  },
  {
   "cell_type": "code",
   "execution_count": 22,
   "metadata": {},
   "outputs": [
    {
     "name": "stdout",
     "output_type": "stream",
     "text": [
      "Se obtuvo de 1000 lanzamientos de un dado de 6 caras el siguiente resultado:\n",
      "\n",
      "[6 4 4 2 5 1 2 4 1 3 1 3 2 1 1 4 3 1 3 5 2 3 5 5 6 5 1 4 2 1 5 1 6 5 6 6 2\n",
      " 2 5 2 5 5 4 2 6 3 4 5 4 2 1 4 5 4 4 6 4 4 6 6 6 2 3 2 6 1 3 5 5 2 2 4 6 5\n",
      " 4 2 4 6 2 4 6 4 6 5 1 2 5 3 5 4 5 5 1 4 4 4 4 5 2 3 6 4 2 2 2 3 6 3 3 4 6\n",
      " 2 6 1 5 6 5 3 6 2 1 6 3 2 3 1 4 5 5 3 4 3 2 2 3 2 4 4 5 6 3 5 1 1 2 3 3 4\n",
      " 5 2 4 1 5 6 6 3 6 5 1 1 6 6 4 1 1 5 2 1 5 4 3 4 4 1 1 6 5 6 4 6 5 6 6 3 1\n",
      " 1 5 5 5 2 5 4 3 1 1 2 4 4 2 6 1 1 5 6 1 1 6 2 1 2 4 3 5 2 6 1 3 4 5 5 2 1\n",
      " 5 1 3 4 4 3 4 6 1 5 4 2 3 6 3 1 2 4 4 3 6 6 1 2 4 3 1 5 5 3 3 4 3 5 2 3 6\n",
      " 2 3 1 4 6 6 3 5 4 3 2 4 3 6 5 6 1 4 3 3 6 4 6 5 5 3 2 3 4 6 6 1 3 3 1 4 1\n",
      " 1 3 2 4 1 3 6 5 3 4 4 6 4 3 6 1 4 2 3 6 2 5 5 3 6 2 5 2 1 5 2 4 3 3 2 6 5\n",
      " 5 6 6 3 2 3 2 1 3 2 3 5 4 2 3 3 2 1 4 6 4 6 5 6 5 5 2 5 1 4 2 3 1 1 2 5 2\n",
      " 2 6 1 1 6 5 6 3 5 5 6 1 3 5 1 1 3 1 2 5 2 1 1 1 3 1 3 4 6 1 5 5 3 3 3 3 6\n",
      " 6 4 3 1 3 2 5 2 2 5 5 5 2 2 1 3 6 4 5 5 2 1 1 1 6 5 2 3 1 1 3 4 2 6 4 4 3\n",
      " 5 5 4 3 1 6 1 6 6 2 4 6 3 2 1 3 5 1 2 3 3 2 1 5 4 5 4 6 4 6 4 2 2 5 4 1 3\n",
      " 5 6 5 4 3 3 5 3 4 4 3 3 6 4 5 3 1 4 2 2 4 5 5 6 6 3 6 3 3 6 6 2 3 6 6 5 2\n",
      " 6 2 6 3 4 6 6 4 3 4 3 3 2 5 1 6 4 4 2 5 6 1 2 5 4 6 5 6 3 5 4 5 5 6 2 5 2\n",
      " 1 1 6 4 5 5 3 4 4 2 2 4 2 5 3 6 4 4 1 5 6 4 4 3 1 4 5 1 2 4 3 4 3 2 1 4 5\n",
      " 1 3 5 3 3 1 2 1 3 1 1 6 6 6 4 6 1 4 4 6 3 5 3 1 3 2 6 3 6 3 1 3 1 2 6 2 5\n",
      " 2 2 1 4 5 5 1 5 2 6 4 5 2 1 6 3 1 5 2 5 4 6 1 1 3 4 4 5 4 1 6 5 2 4 5 3 4\n",
      " 1 1 4 3 6 3 5 2 6 2 3 6 6 1 2 3 3 3 2 5 6 3 3 1 1 5 6 5 3 4 4 4 5 5 3 3 4\n",
      " 2 6 5 4 6 3 1 2 3 1 3 6 2 6 4 3 5 6 6 6 6 5 4 3 3 3 1 2 5 4 1 3 6 4 1 3 2\n",
      " 5 5 1 2 2 2 6 1 1 6 4 3 5 2 1 6 4 1 5 4 6 4 2 1 5 2 5 2 3 6 4 6 6 5 2 2 2\n",
      " 3 2 4 6 5 1 3 4 4 4 5 3 5 6 2 3 5 5 6 5 5 2 2 4 3 5 3 2 2 4 3 6 2 1 6 5 3\n",
      " 2 4 5 6 5 6 1 5 5 1 4 2 4 1 4 4 3 4 2 4 3 5 6 4 4 1 1 1 1 2 6 3 2 6 5 1 5\n",
      " 5 3 5 1 2 1 1 5 5 5 6 2 3 4 5 4 6 2 2 1 2 6 4 5 3 4 6 6 5 1 1 5 5 1 5 2 3\n",
      " 5 4 6 4 6 5 4 2 4 4 2 3 4 4 2 5 4 3 6 5 1 5 2 5 1 4 3 3 6 1 1 6 1 2 6 3 2\n",
      " 2 4 1 1 2 2 6 6 3 6 4 2 4 6 4 6 2 2 3 2 3 3 6 6 5 5 2 4 2 3 5 6 6 5 5 6 3\n",
      " 5 5 3 6 6 5 2 5 6 2 6 4 2 4 4 5 1 2 2 3 1 2 4 3 5 2 5 2 1 4 2 6 1 2 5 2 5\n",
      " 6]\n"
     ]
    }
   ],
   "source": [
    "#Importamos los paquetes necesarios\n",
    "\n",
    "import secrets\n",
    "import h5py\n",
    "\n",
    "#Definimos nuestras variables  \n",
    "\n",
    "n = 6; #Numero de caras del dado que vamos a simular \n",
    "N_lanzamientos = 1000; #Numero de lanzamientos\n",
    "\n",
    "#Definimos la función \n",
    "\n",
    "def dados(n:int):\n",
    "    \"\"\"\n",
    "    -----------------------------------------------------------------------\n",
    "    Argumentos:\n",
    "    \n",
    "    n = Numero de caras del dado.\n",
    "    \n",
    "    -----------------------------------------------------------------------\n",
    "    \n",
    "    Simula el lanzamiento de un dado de n caras, donde n debe ser un entero.\n",
    "    \"\"\"\n",
    "    if type(n)!=int:\n",
    "        raise Exception('El argumento n debe ser un entero');\n",
    "    lista = [x for x in range(1,n+1)] #Generamos una lista [1,2,3,...,n]\n",
    "    result = secrets.choice(lista) #Elegimos un valor aleatorio de la lista\n",
    "    return result \n",
    "\n",
    "arr = [] #Lista para guardar los datos\n",
    "\n",
    "for i in range(0,N_lanzamientos):\n",
    "    arr.append(dados(n)); #Guardamos el resutlado de cada lanzamiento en la lista arr\n",
    "\n",
    "#Guardamos los datos en un archivo \"Resultado_datos.hd5\"\n",
    "with h5py.File(\"Resultado_datos.hd5\",\"w\") as file:\n",
    "    datos1 = file.create_dataset('Dados', data=arr)\n",
    "\n",
    "#Mostramos los datos\n",
    "with h5py.File(\"Resultado_datos.hd5\",\"r\") as file:\n",
    "    datos = file['Dados'];\n",
    "    print(f'Se obtuvo de {N_lanzamientos} lanzamientos de un dado de {n} caras el siguiente resultado:\\n\\n{datos[...]}');"
   ]
  }
 ],
 "metadata": {
  "kernelspec": {
   "display_name": "Python 3",
   "language": "python",
   "name": "python3"
  },
  "language_info": {
   "codemirror_mode": {
    "name": "ipython",
    "version": 3
   },
   "file_extension": ".py",
   "mimetype": "text/x-python",
   "name": "python",
   "nbconvert_exporter": "python",
   "pygments_lexer": "ipython3",
   "version": "3.8.3"
  }
 },
 "nbformat": 4,
 "nbformat_minor": 4
}
